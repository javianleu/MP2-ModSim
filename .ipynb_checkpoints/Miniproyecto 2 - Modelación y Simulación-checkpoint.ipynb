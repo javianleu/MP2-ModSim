{
 "cells": [
  {
   "cell_type": "markdown",
   "metadata": {},
   "source": [
    "# Miniproyecto 2\n",
    "## Modelación y Simulación\n",
    "Javier Anleu Alegría - 17149\n",
    "\n",
    "Andrea Argüello Barillas - 17801"
   ]
  },
  {
   "cell_type": "code",
   "execution_count": 1,
   "metadata": {},
   "outputs": [
    {
     "name": "stdout",
     "output_type": "stream",
     "text": [
      "0.48584534426913617\n"
     ]
    }
   ],
   "source": [
    "# Import de la biblioteca para generar números aleatorios\n",
    "import random\n",
    "\n",
    "# Configuración de la seed para el random\n",
    "random.seed(123)\n",
    "\n",
    "# Lista para almacenar los números x_i\n",
    "x = []\n",
    "\n",
    "# Lista para almacenar los valores de la media conforme se generan los números\n",
    "u = []\n",
    "\n",
    "for i in range(0,1000):\n",
    "    x.append(random.random())\n",
    "    u.append(sum(x)/len(x))\n",
    "    \n",
    "print (u[999])"
   ]
  }
 ],
 "metadata": {
  "kernelspec": {
   "display_name": "Python 3",
   "language": "python",
   "name": "python3"
  },
  "language_info": {
   "codemirror_mode": {
    "name": "ipython",
    "version": 3
   },
   "file_extension": ".py",
   "mimetype": "text/x-python",
   "name": "python",
   "nbconvert_exporter": "python",
   "pygments_lexer": "ipython3",
   "version": "3.8.2"
  }
 },
 "nbformat": 4,
 "nbformat_minor": 4
}
