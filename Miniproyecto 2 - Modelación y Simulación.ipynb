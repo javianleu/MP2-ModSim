{
 "cells": [
  {
   "cell_type": "markdown",
   "metadata": {},
   "source": [
    "# Miniproyecto 2\n",
    "## Modelación y Simulación\n",
    "Javier Anleu Alegría - 17149\n",
    "\n",
    "Andrea Argüello Barillas - 17801"
   ]
  },
  {
   "cell_type": "code",
   "execution_count": 1,
   "metadata": {},
   "outputs": [],
   "source": [
    "import random\n",
    "from matplotlib import pyplot as plt\n",
    "import numpy as np"
   ]
  },
  {
   "cell_type": "markdown",
   "metadata": {},
   "source": [
    "La **Ley de los Grandes Números** establece que el promedio de los resultados de un experimento tenderá al valor esperado mientras más veces se repita el experimento. Existen dos formas de describirla: la Ley Débil o la Ley Fuerte.\n",
    "\n",
    "\n",
    "*Ley Débil de los Grandes Números*\n",
    "\n",
    "La ley débil establece que la media de una muestra de valores de una misma distribución converge en probabilidad con el valor esperado, tal que:\n",
    "\n",
    "$$\n",
    "\\overline X_n \\xrightarrow {\\text{P}} \\mu \\quad \\text{cuando} \\quad n \\to \\infty\n",
    "$$\n",
    "\n",
    "En términos de probabilidad, se puede expresar por medio de la desigualdad de Chebyshev:\n",
    "\n",
    "$$\n",
    "\\lim_{n\\to\\infty} P\\Big(|\\overline X_n - \\mu|> \\varepsilon \\Big) = 0\n",
    "$$\n",
    "\n",
    "*Ley Fuerte de los Grandes Números*\n",
    "\n",
    "La ley fuerte se plantea de manera similar. Establece que la media de una muestra de valores de una distribución converge casi seguramente tal que: \n",
    "\n",
    "$$\n",
    "\\overline X_n \\xrightarrow {\\text{casi seguramente}} \\mu \\quad \\text{cuando} \\quad n \\to \\infty\n",
    "$$\n",
    "\n",
    "En términos de probabilidad, se puede expresar de la siguiente manera:\n",
    "\n",
    "$$\n",
    "P \\Big(\\lim_{n\\to\\infty} \\overline X_n = \\mu \\Big) = 1\n",
    "$$\n"
   ]
  },
  {
   "cell_type": "markdown",
   "metadata": {},
   "source": [
    "### Generación de números aleatorios y cálculo de medias parciales\n",
    "Recordar que, para una distribución continua uniforme, \n",
    "$$\n",
    "\\mu = \\frac{a+b}{2}\n",
    "$$\n",
    "\n",
    "Si $a = 0$ y $b = 1$, entonces\n",
    "$$\n",
    "\\mu = \\frac{0+1}{2}=\\frac{1}{2}$$"
   ]
  },
  {
   "cell_type": "code",
   "execution_count": 2,
   "metadata": {},
   "outputs": [],
   "source": [
    "# Configuración de la seed para el random\n",
    "random.seed(2573)\n",
    "\n",
    "# Lista para almacenar los números x_i\n",
    "x = []\n",
    "\n",
    "# Lista para almacenar los valores de la media conforme se generan los números\n",
    "s_n = []\n",
    "\n",
    "mu = []\n",
    "\n",
    "array_avg = lambda X: sum(X)/len(X)\n",
    "\n",
    "for i in range(0,1000):\n",
    "    x.append(random.random())\n",
    "    s_n.append(array_avg(x))\n",
    "    mu.append(0.5)"
   ]
  },
  {
   "cell_type": "markdown",
   "metadata": {},
   "source": [
    "### Gráfica de $n$ vs $s_n$ "
   ]
  },
  {
   "cell_type": "code",
   "execution_count": 3,
   "metadata": {},
   "outputs": [
    {
     "data": {
      "image/png": "[encoded data removed]",
      "text/plain": [
       "<Figure size 432x288 with 1 Axes>"
      ]
     },
     "metadata": {
      "needs_background": "light"
     },
     "output_type": "display_data"
    }
   ],
   "source": [
    "plt.plot(np.arange(0,len(s_n)), s_n, mu)\n",
    "\n",
    "plt.xlabel('$n$')\n",
    "plt.ylabel('$s_n$')\n",
    "plt.suptitle('Gráfica de la función $n$ → $s_n$')\n",
    "plt.ylim(0, 1)\n",
    "plt.show()"
   ]
  },
  {
   "cell_type": "markdown",
   "metadata": {},
   "source": [
    "### Conclusión\n",
    "Se puede observar que mientras $ s_n \\xrightarrow[n \\to \\infty]{} \\mu$"
   ]
  }
 ],
 "metadata": {
  "kernelspec": {
   "display_name": "Python 3",
   "language": "python",
   "name": "python3"
  },
  "language_info": {
   "codemirror_mode": {
    "name": "ipython",
    "version": 3
   },
   "file_extension": ".py",
   "mimetype": "text/x-python",
   "name": "python",
   "nbconvert_exporter": "python",
   "pygments_lexer": "ipython3",
   "version": "3.8.2"
  }
 },
 "nbformat": 4,
 "nbformat_minor": 4
}
