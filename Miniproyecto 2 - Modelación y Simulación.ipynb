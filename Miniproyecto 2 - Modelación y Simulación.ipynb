{
 "cells": [
  {
   "cell_type": "markdown",
   "metadata": {},
   "source": [
    "# Miniproyecto 2\n",
    "## Modelación y Simulación\n",
    "Javier Anleu Alegría - 17149\n",
    "\n",
    "Andrea Argüello Barillas - 17801"
   ]
  },
  {
   "cell_type": "code",
   "execution_count": 2,
   "metadata": {},
   "outputs": [],
   "source": [
    "import random\n",
    "from matplotlib import pyplot as plt\n",
    "import numpy as np"
   ]
  },
  {
   "cell_type": "markdown",
   "metadata": {},
   "source": [
    "### Generación de números aleatorios y cálculo de medias parciales\n",
    "Recordar que $\\mu = \\frac{a+b}{2}=\\frac{1}{2}$"
   ]
  },
  {
   "cell_type": "code",
   "execution_count": 13,
   "metadata": {},
   "outputs": [
    {
     "name": "stdout",
     "output_type": "stream",
     "text": [
      "0.48584534426913617\n"
     ]
    }
   ],
   "source": [
    "# Configuración de la seed para el random\n",
    "random.seed(123)\n",
    "\n",
    "# Lista para almacenar los números x_i\n",
    "x = []\n",
    "\n",
    "# Lista para almacenar los valores de la media conforme se generan los números\n",
    "s_n = []\n",
    "\n",
    "mu = []\n",
    "\n",
    "array_avg = lambda X: sum(X)/len(X)\n",
    "\n",
    "for i in range(0,1000):\n",
    "    x.append(random.random())\n",
    "    s_n.append(array_avg(x))\n",
    "    mu.append(0.5)\n",
    "    \n",
    "print (s_n[999])"
   ]
  },
  {
   "cell_type": "markdown",
   "metadata": {},
   "source": [
    "### Gráfica de $n$ vs $s_n$ "
   ]
  },
  {
   "cell_type": "code",
   "execution_count": 24,
   "metadata": {},
   "outputs": [
    {
     "data": {
      "image/png": "[encoded data removed]",
      "text/plain": [
       "<Figure size 432x288 with 1 Axes>"
      ]
     },
     "metadata": {
      "needs_background": "light"
     },
     "output_type": "display_data"
    }
   ],
   "source": [
    "plt.plot(np.arange(0,len(s_n)), s_n, mu)\n",
    "\n",
    "plt.xlabel('$n$')\n",
    "plt.ylabel('$s_n$')\n",
    "plt.suptitle('Gráfica de la función $n$ → $s_n$')\n",
    "plt.ylim(0, 1)\n",
    "plt.show()"
   ]
  },
  {
   "cell_type": "markdown",
   "metadata": {},
   "source": [
    "Se puede observar que mientras $ s_n \\xrightarrow[n \\to \\infty]{} \\mu$"
   ]
  }
 ],
 "metadata": {
  "kernelspec": {
   "display_name": "Python 3",
   "language": "python",
   "name": "python3"
  },
  "language_info": {
   "codemirror_mode": {
    "name": "ipython",
    "version": 3
   },
   "file_extension": ".py",
   "mimetype": "text/x-python",
   "name": "python",
   "nbconvert_exporter": "python",
   "pygments_lexer": "ipython3",
   "version": "3.8.2"
  }
 },
 "nbformat": 4,
 "nbformat_minor": 4
}
